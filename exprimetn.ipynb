{
 "cells": [
  {
   "cell_type": "code",
   "execution_count": 1,
   "metadata": {},
   "outputs": [],
   "source": [
    "import numpy as np\n",
    "from tensorflow.keras.models import Sequential\n",
    "from tensorflow.keras.layers import Embedding, "
   ]
  },
  {
   "cell_type": "code",
   "execution_count": 9,
   "metadata": {},
   "outputs": [],
   "source": [
    "model = Sequential()\n",
    "model.add(Embedding(100, 64, input_length=10))\n",
    "# 模型将输入一个大小为 (batch, input_length) 的整数矩阵。\n",
    "# 输入中最大的整数（即词索引）不应该大于 999 （词汇表大小）\n",
    "# 现在 model.output_shape == (None, 10, 64)，其中 None 是 batch 的维度。\n",
    "\n",
    "input_array = np.random.randint(100, size=(32, 10))\n",
    "\n",
    "model.compile('rmsprop', 'mse')\n",
    "output_array = model.predict(input_array)\n",
    "assert output_array.shape == (32, 10, 64)"
   ]
  },
  {
   "cell_type": "code",
   "execution_count": 5,
   "metadata": {},
   "outputs": [
    {
     "data": {
      "text/plain": [
       "array([[1],\n",
       "       [2],\n",
       "       [1],\n",
       "       [1],\n",
       "       [2],\n",
       "       [1],\n",
       "       [2],\n",
       "       [2],\n",
       "       [2],\n",
       "       [1]])"
      ]
     },
     "execution_count": 5,
     "metadata": {},
     "output_type": "execute_result"
    }
   ],
   "source": [
    "np.random.randint(3, size=(10,1))"
   ]
  },
  {
   "cell_type": "code",
   "execution_count": 4,
   "metadata": {},
   "outputs": [],
   "source": [
    "import tensorflow as tf\n",
    "import numpy  as np\n",
    "from tensorflow.keras.layers import Layer"
   ]
  },
  {
   "cell_type": "code",
   "execution_count": 3,
   "metadata": {},
   "outputs": [
    {
     "name": "stdout",
     "output_type": "stream",
     "text": [
      "[[ 711  632   71    0    0    0]\n",
      " [  73    8 3215   55  927    0]\n",
      " [  83   91    1  645 1253  927]]\n"
     ]
    }
   ],
   "source": [
    "raw_inputs = [\n",
    "    [711, 632, 71],\n",
    "    [73, 8, 3215, 55, 927],\n",
    "    [83, 91, 1, 645, 1253, 927],\n",
    "]\n",
    "\n",
    "# By default, this will pad using 0s; it is configurable via the\n",
    "# \"value\" parameter.\n",
    "# Note that you could \"pre\" padding (at the beginning) or\n",
    "# \"post\" padding (at the end).\n",
    "# We recommend using \"post\" padding when working with RNN layers\n",
    "# (in order to be able to use the\n",
    "# CuDNN implementation of the layers).\n",
    "padded_inputs = tf.keras.preprocessing.sequence.pad_sequences(\n",
    "    raw_inputs, padding=\"post\"\n",
    ")\n",
    "print(padded_inputs)"
   ]
  },
  {
   "cell_type": "code",
   "execution_count": 6,
   "metadata": {},
   "outputs": [],
   "source": [
    "class CustomerLayer(Layer):\n",
    "\n",
    "    def __init__(self, trainable=True, name=None, dtype=None, dynamic=False, **kwargs):\n",
    "        super().__init__(trainable=trainable, name=name, dtype=dtype, dynamic=dynamic, **kwargs)\n",
    "\n",
    "    \n",
    "    def call(self, inputs, mask=None):\n",
    "        if mask is None:\n",
    "            return inputs\n",
    "        print(mask)\n",
    "        return inputs \n",
    "\n",
    "    def compute_mask(self, inputs, mask=None):\n",
    "        if mask is None:\n",
    "            return None \n",
    "        return tf.cast(mask, tf.int32)"
   ]
  },
  {
   "cell_type": "code",
   "execution_count": 8,
   "metadata": {},
   "outputs": [
    {
     "name": "stdout",
     "output_type": "stream",
     "text": [
      "Tensor(\"Placeholder_1:0\", shape=(None, 20), dtype=bool)\n",
      "Mask found: KerasTensor(type_spec=TensorSpec(shape=(None, 20), dtype=tf.int32, name=None), name='Cast:0')\n"
     ]
    }
   ],
   "source": [
    "inputs = tf.keras.layers.Input(shape=(20,), dtype=\"int32\")\n",
    "x = tf.keras.layers.Embedding(input_dim=32, output_dim=16, mask_zero=True)(inputs)\n",
    "x = CustomerLayer()(x)  # Will pass the mask along\n",
    "\n",
    "print(\"Mask found:\", x._keras_mask)\n",
    "outputs = tf.keras.layers.Dense(10, activation=\"relu\")(x)\n",
    "model = tf.keras.Model(inputs, outputs)\n",
    "\n",
    "model = tf.keras.Model(inputs, outputs)"
   ]
  },
  {
   "cell_type": "code",
   "execution_count": 19,
   "metadata": {},
   "outputs": [],
   "source": [
    "feautres = np.random.random(size=(32, 20))\n",
    "labels = np.random.randint(2, size=(32, 1))"
   ]
  },
  {
   "cell_type": "code",
   "execution_count": 20,
   "metadata": {},
   "outputs": [],
   "source": [
    "model.compile(optimizer=\"adam\", loss=\"binary_crossentropy\", metrics=\"auc\")"
   ]
  },
  {
   "cell_type": "code",
   "execution_count": 21,
   "metadata": {},
   "outputs": [
    {
     "name": "stdout",
     "output_type": "stream",
     "text": [
      "Tensor(\"model_1/embedding_2/NotEqual:0\", shape=(32, 20), dtype=bool)\n"
     ]
    },
    {
     "ename": "ValueError",
     "evalue": "in user code:\n\n    File \"D:\\Program Files (x86)\\Anaconda3\\envs\\recommender\\lib\\site-packages\\keras\\engine\\training.py\", line 878, in train_function  *\n        return step_function(self, iterator)\n    File \"D:\\Program Files (x86)\\Anaconda3\\envs\\recommender\\lib\\site-packages\\keras\\engine\\training.py\", line 867, in step_function  **\n        outputs = model.distribute_strategy.run(run_step, args=(data,))\n    File \"D:\\Program Files (x86)\\Anaconda3\\envs\\recommender\\lib\\site-packages\\keras\\engine\\training.py\", line 860, in run_step  **\n        outputs = model.train_step(data)\n    File \"D:\\Program Files (x86)\\Anaconda3\\envs\\recommender\\lib\\site-packages\\keras\\engine\\training.py\", line 810, in train_step\n        y, y_pred, sample_weight, regularization_losses=self.losses)\n    File \"D:\\Program Files (x86)\\Anaconda3\\envs\\recommender\\lib\\site-packages\\keras\\engine\\compile_utils.py\", line 201, in __call__\n        loss_value = loss_obj(y_t, y_p, sample_weight=sw)\n    File \"D:\\Program Files (x86)\\Anaconda3\\envs\\recommender\\lib\\site-packages\\keras\\losses.py\", line 143, in __call__\n        losses, sample_weight, reduction=self._get_reduction())\n    File \"D:\\Program Files (x86)\\Anaconda3\\envs\\recommender\\lib\\site-packages\\keras\\utils\\losses_utils.py\", line 322, in compute_weighted_loss\n        losses, None, sample_weight)\n    File \"D:\\Program Files (x86)\\Anaconda3\\envs\\recommender\\lib\\site-packages\\keras\\utils\\losses_utils.py\", line 211, in squeeze_or_expand_dimensions\n        sample_weight = tf.squeeze(sample_weight, [-1])\n\n    ValueError: Can not squeeze dim[1], expected a dimension of 1, got 20 for '{{node binary_crossentropy/weighted_loss/Squeeze}} = Squeeze[T=DT_FLOAT, squeeze_dims=[-1]](Cast)' with input shapes: [32,20].\n",
     "output_type": "error",
     "traceback": [
      "\u001b[1;31m---------------------------------------------------------------------------\u001b[0m",
      "\u001b[1;31mValueError\u001b[0m                                Traceback (most recent call last)",
      "\u001b[1;32m~\\AppData\\Local\\Temp/ipykernel_10056/79827936.py\u001b[0m in \u001b[0;36m<module>\u001b[1;34m\u001b[0m\n\u001b[0;32m      1\u001b[0m model.fit(feautres,\n\u001b[1;32m----> 2\u001b[1;33m           labels)\n\u001b[0m",
      "\u001b[1;32mD:\\Program Files (x86)\\Anaconda3\\envs\\recommender\\lib\\site-packages\\keras\\utils\\traceback_utils.py\u001b[0m in \u001b[0;36merror_handler\u001b[1;34m(*args, **kwargs)\u001b[0m\n\u001b[0;32m     65\u001b[0m     \u001b[1;32mexcept\u001b[0m \u001b[0mException\u001b[0m \u001b[1;32mas\u001b[0m \u001b[0me\u001b[0m\u001b[1;33m:\u001b[0m  \u001b[1;31m# pylint: disable=broad-except\u001b[0m\u001b[1;33m\u001b[0m\u001b[1;33m\u001b[0m\u001b[0m\n\u001b[0;32m     66\u001b[0m       \u001b[0mfiltered_tb\u001b[0m \u001b[1;33m=\u001b[0m \u001b[0m_process_traceback_frames\u001b[0m\u001b[1;33m(\u001b[0m\u001b[0me\u001b[0m\u001b[1;33m.\u001b[0m\u001b[0m__traceback__\u001b[0m\u001b[1;33m)\u001b[0m\u001b[1;33m\u001b[0m\u001b[1;33m\u001b[0m\u001b[0m\n\u001b[1;32m---> 67\u001b[1;33m       \u001b[1;32mraise\u001b[0m \u001b[0me\u001b[0m\u001b[1;33m.\u001b[0m\u001b[0mwith_traceback\u001b[0m\u001b[1;33m(\u001b[0m\u001b[0mfiltered_tb\u001b[0m\u001b[1;33m)\u001b[0m \u001b[1;32mfrom\u001b[0m \u001b[1;32mNone\u001b[0m\u001b[1;33m\u001b[0m\u001b[1;33m\u001b[0m\u001b[0m\n\u001b[0m\u001b[0;32m     68\u001b[0m     \u001b[1;32mfinally\u001b[0m\u001b[1;33m:\u001b[0m\u001b[1;33m\u001b[0m\u001b[1;33m\u001b[0m\u001b[0m\n\u001b[0;32m     69\u001b[0m       \u001b[1;32mdel\u001b[0m \u001b[0mfiltered_tb\u001b[0m\u001b[1;33m\u001b[0m\u001b[1;33m\u001b[0m\u001b[0m\n",
      "\u001b[1;32mD:\\Program Files (x86)\\Anaconda3\\envs\\recommender\\lib\\site-packages\\tensorflow\\python\\framework\\func_graph.py\u001b[0m in \u001b[0;36mautograph_handler\u001b[1;34m(*args, **kwargs)\u001b[0m\n\u001b[0;32m   1127\u001b[0m           \u001b[1;32mexcept\u001b[0m \u001b[0mException\u001b[0m \u001b[1;32mas\u001b[0m \u001b[0me\u001b[0m\u001b[1;33m:\u001b[0m  \u001b[1;31m# pylint:disable=broad-except\u001b[0m\u001b[1;33m\u001b[0m\u001b[1;33m\u001b[0m\u001b[0m\n\u001b[0;32m   1128\u001b[0m             \u001b[1;32mif\u001b[0m \u001b[0mhasattr\u001b[0m\u001b[1;33m(\u001b[0m\u001b[0me\u001b[0m\u001b[1;33m,\u001b[0m \u001b[1;34m\"ag_error_metadata\"\u001b[0m\u001b[1;33m)\u001b[0m\u001b[1;33m:\u001b[0m\u001b[1;33m\u001b[0m\u001b[1;33m\u001b[0m\u001b[0m\n\u001b[1;32m-> 1129\u001b[1;33m               \u001b[1;32mraise\u001b[0m \u001b[0me\u001b[0m\u001b[1;33m.\u001b[0m\u001b[0mag_error_metadata\u001b[0m\u001b[1;33m.\u001b[0m\u001b[0mto_exception\u001b[0m\u001b[1;33m(\u001b[0m\u001b[0me\u001b[0m\u001b[1;33m)\u001b[0m\u001b[1;33m\u001b[0m\u001b[1;33m\u001b[0m\u001b[0m\n\u001b[0m\u001b[0;32m   1130\u001b[0m             \u001b[1;32melse\u001b[0m\u001b[1;33m:\u001b[0m\u001b[1;33m\u001b[0m\u001b[1;33m\u001b[0m\u001b[0m\n\u001b[0;32m   1131\u001b[0m               \u001b[1;32mraise\u001b[0m\u001b[1;33m\u001b[0m\u001b[1;33m\u001b[0m\u001b[0m\n",
      "\u001b[1;31mValueError\u001b[0m: in user code:\n\n    File \"D:\\Program Files (x86)\\Anaconda3\\envs\\recommender\\lib\\site-packages\\keras\\engine\\training.py\", line 878, in train_function  *\n        return step_function(self, iterator)\n    File \"D:\\Program Files (x86)\\Anaconda3\\envs\\recommender\\lib\\site-packages\\keras\\engine\\training.py\", line 867, in step_function  **\n        outputs = model.distribute_strategy.run(run_step, args=(data,))\n    File \"D:\\Program Files (x86)\\Anaconda3\\envs\\recommender\\lib\\site-packages\\keras\\engine\\training.py\", line 860, in run_step  **\n        outputs = model.train_step(data)\n    File \"D:\\Program Files (x86)\\Anaconda3\\envs\\recommender\\lib\\site-packages\\keras\\engine\\training.py\", line 810, in train_step\n        y, y_pred, sample_weight, regularization_losses=self.losses)\n    File \"D:\\Program Files (x86)\\Anaconda3\\envs\\recommender\\lib\\site-packages\\keras\\engine\\compile_utils.py\", line 201, in __call__\n        loss_value = loss_obj(y_t, y_p, sample_weight=sw)\n    File \"D:\\Program Files (x86)\\Anaconda3\\envs\\recommender\\lib\\site-packages\\keras\\losses.py\", line 143, in __call__\n        losses, sample_weight, reduction=self._get_reduction())\n    File \"D:\\Program Files (x86)\\Anaconda3\\envs\\recommender\\lib\\site-packages\\keras\\utils\\losses_utils.py\", line 322, in compute_weighted_loss\n        losses, None, sample_weight)\n    File \"D:\\Program Files (x86)\\Anaconda3\\envs\\recommender\\lib\\site-packages\\keras\\utils\\losses_utils.py\", line 211, in squeeze_or_expand_dimensions\n        sample_weight = tf.squeeze(sample_weight, [-1])\n\n    ValueError: Can not squeeze dim[1], expected a dimension of 1, got 20 for '{{node binary_crossentropy/weighted_loss/Squeeze}} = Squeeze[T=DT_FLOAT, squeeze_dims=[-1]](Cast)' with input shapes: [32,20].\n"
     ]
    }
   ],
   "source": [
    "model.fit(feautres,\n",
    "          labels)"
   ]
  },
  {
   "cell_type": "code",
   "execution_count": 15,
   "metadata": {},
   "outputs": [
    {
     "data": {
      "text/plain": [
       "array([[9.70571824e-01, 2.79704992e-01, 8.56489056e-01, 2.89744653e-01,\n",
       "        2.48587890e-02, 1.43565596e-01, 1.59611861e-01, 8.20256627e-01,\n",
       "        7.00561225e-01, 4.04111835e-01, 6.04652957e-01, 5.59594641e-01,\n",
       "        1.84049437e-01, 5.71397620e-02, 6.41771262e-01, 4.41420305e-01,\n",
       "        3.16935054e-01, 8.84271496e-01, 8.10940293e-02, 3.85923642e-01],\n",
       "       [4.96017952e-02, 3.33184224e-01, 5.18078076e-01, 1.19746250e-01,\n",
       "        9.57261457e-01, 2.15417460e-01, 6.74074146e-01, 9.60789371e-01,\n",
       "        3.60818695e-01, 1.90424962e-01, 6.60218777e-01, 2.64762099e-01,\n",
       "        2.28461145e-01, 8.71832633e-01, 4.43122340e-01, 4.64001604e-01,\n",
       "        2.05319519e-02, 4.95700749e-01, 8.24118606e-01, 3.64902782e-01],\n",
       "       [6.38270206e-02, 8.78128703e-02, 3.21306391e-01, 9.34529686e-02,\n",
       "        6.28054727e-01, 6.61365341e-01, 1.92797016e-03, 3.64286142e-01,\n",
       "        2.10324419e-01, 3.32363127e-01, 3.86598867e-01, 2.02862213e-01,\n",
       "        1.38389978e-01, 3.30556544e-01, 6.31458829e-01, 3.03084488e-02,\n",
       "        9.47880597e-01, 6.03484685e-01, 9.93029427e-01, 1.13855304e-01],\n",
       "       [5.72455000e-01, 4.76449059e-01, 9.35727004e-01, 7.93088506e-01,\n",
       "        6.52976895e-01, 1.53635054e-01, 1.13587110e-01, 2.90004625e-01,\n",
       "        3.95174385e-01, 1.11745691e-01, 5.40191367e-02, 7.95969143e-01,\n",
       "        8.80378465e-01, 7.04927722e-02, 8.22988257e-01, 9.32905221e-01,\n",
       "        9.82242357e-01, 9.38904588e-01, 3.74544881e-01, 2.16866452e-01],\n",
       "       [1.87382550e-02, 4.98746933e-01, 8.45319997e-01, 6.66154785e-01,\n",
       "        5.30049763e-01, 8.26335071e-01, 7.60969565e-01, 9.70186784e-01,\n",
       "        4.16809045e-01, 6.44931043e-03, 1.73924363e-01, 6.27323953e-01,\n",
       "        3.00940881e-01, 2.84401330e-01, 2.28201684e-01, 2.32135922e-01,\n",
       "        7.72078737e-01, 2.48774428e-01, 9.63671072e-01, 4.60429114e-01],\n",
       "       [2.49990112e-01, 2.77900379e-01, 5.61987564e-01, 6.83199358e-01,\n",
       "        6.47821915e-01, 9.89261599e-02, 5.92566985e-01, 7.75596829e-01,\n",
       "        7.09316640e-01, 6.29025370e-01, 2.41431377e-01, 3.10271264e-01,\n",
       "        4.83857962e-01, 1.72410731e-01, 9.85628678e-01, 6.69655781e-01,\n",
       "        8.00878307e-01, 5.04562486e-02, 4.21781968e-02, 5.80915772e-01],\n",
       "       [4.69217442e-01, 2.03294991e-01, 6.96299574e-01, 5.91050313e-01,\n",
       "        3.32878210e-01, 2.79773625e-01, 1.85669518e-01, 3.03636129e-01,\n",
       "        4.77891468e-01, 2.08285948e-01, 5.57022264e-01, 4.54529140e-02,\n",
       "        6.94651318e-02, 1.11158059e-01, 9.76262467e-01, 9.07181517e-01,\n",
       "        6.32371048e-01, 2.37568660e-01, 6.63356773e-01, 2.09330710e-01],\n",
       "       [2.47153702e-01, 3.21872433e-01, 4.48309969e-01, 4.45683757e-01,\n",
       "        6.03209170e-01, 5.84211837e-01, 2.00256079e-01, 8.25462736e-01,\n",
       "        8.24656507e-02, 8.14757533e-01, 1.16046198e-01, 7.46835578e-01,\n",
       "        7.56861831e-01, 5.17502572e-01, 8.23952599e-01, 1.15242397e-01,\n",
       "        6.35532552e-01, 6.02945573e-02, 4.93712833e-02, 1.15560569e-01],\n",
       "       [3.40650865e-01, 1.20081148e-01, 1.50050524e-01, 3.90933726e-01,\n",
       "        3.10049955e-02, 4.55313280e-01, 8.95800550e-01, 5.35851676e-02,\n",
       "        6.98535169e-01, 4.74699906e-02, 8.42969456e-01, 4.54447113e-02,\n",
       "        9.37884740e-01, 6.48055000e-01, 1.73916023e-01, 8.77008230e-01,\n",
       "        7.40282398e-01, 1.92153716e-01, 4.81362854e-01, 3.23294734e-01],\n",
       "       [9.05200433e-01, 3.80663888e-01, 5.00807965e-01, 1.55931201e-01,\n",
       "        5.64668225e-01, 1.41683522e-02, 9.19472303e-01, 3.50122107e-01,\n",
       "        7.91310045e-01, 7.91987906e-01, 8.07463421e-01, 3.39835858e-01,\n",
       "        3.59741967e-01, 2.32402806e-01, 5.28836352e-01, 1.60664924e-01,\n",
       "        7.31619222e-01, 8.51181996e-01, 6.20525355e-01, 9.32976823e-01],\n",
       "       [2.91296959e-01, 9.13423609e-02, 8.56113399e-01, 8.39544351e-01,\n",
       "        6.62672821e-01, 7.74734706e-01, 5.98447483e-01, 4.29810238e-01,\n",
       "        3.31095920e-01, 6.44694496e-01, 1.69875222e-01, 4.32312366e-01,\n",
       "        3.59086205e-01, 4.80966840e-01, 6.03683342e-01, 6.25120344e-01,\n",
       "        8.30144733e-01, 5.90531287e-01, 7.39523250e-01, 9.61388419e-01],\n",
       "       [2.01176007e-01, 5.46248762e-01, 5.61140527e-04, 3.48294336e-01,\n",
       "        1.82045398e-01, 5.11313822e-02, 2.07887883e-01, 5.79540536e-01,\n",
       "        6.14632997e-01, 5.20431034e-01, 9.80208524e-01, 2.54742322e-01,\n",
       "        8.06355104e-01, 2.05327978e-01, 9.50422464e-01, 5.71421793e-01,\n",
       "        3.97184501e-01, 2.40051301e-01, 9.97786633e-01, 7.63410316e-01],\n",
       "       [1.74736363e-01, 9.59553346e-01, 4.42530120e-03, 4.88799016e-01,\n",
       "        5.46883533e-02, 6.76861931e-01, 3.07360941e-01, 9.39172480e-01,\n",
       "        8.86294438e-01, 3.97901756e-01, 8.28116691e-01, 8.17646824e-01,\n",
       "        1.59383151e-01, 1.47956341e-01, 8.91821626e-02, 2.54902538e-01,\n",
       "        1.76598474e-01, 9.92881122e-02, 9.28146032e-01, 8.97388916e-01],\n",
       "       [1.00949967e-01, 2.42881030e-01, 3.79485926e-02, 2.52413209e-01,\n",
       "        2.02630950e-01, 5.65008545e-01, 2.93451847e-01, 7.44653253e-01,\n",
       "        4.48511888e-01, 3.99560738e-02, 9.49791949e-01, 9.36258304e-01,\n",
       "        8.95145286e-01, 3.06471287e-01, 1.43634881e-01, 8.28147320e-02,\n",
       "        1.00734539e-01, 3.49736108e-01, 7.07834493e-01, 9.28603356e-01],\n",
       "       [8.13258576e-01, 7.92414241e-01, 9.78494312e-02, 5.83258936e-01,\n",
       "        9.28931584e-01, 6.63619168e-01, 8.66060186e-01, 6.86328884e-01,\n",
       "        8.48965044e-01, 5.92269964e-01, 9.32737797e-01, 6.53923781e-01,\n",
       "        8.32993724e-01, 3.79482051e-01, 8.32248556e-02, 2.44353449e-01,\n",
       "        8.64985198e-01, 6.24502328e-01, 9.99922180e-02, 3.24811855e-01],\n",
       "       [8.63625911e-01, 3.57230631e-01, 4.30917435e-01, 1.85652120e-01,\n",
       "        3.53402678e-01, 6.29645778e-01, 1.50338905e-01, 4.07438275e-01,\n",
       "        4.74861426e-01, 2.44139604e-02, 9.62146071e-02, 2.61439519e-01,\n",
       "        6.47065587e-01, 1.05255822e-01, 1.99007931e-02, 4.90481404e-01,\n",
       "        5.64639318e-01, 4.02201251e-01, 7.38260884e-01, 9.11035512e-01],\n",
       "       [7.10199544e-02, 3.12790085e-01, 1.16767692e-01, 2.43508201e-01,\n",
       "        9.03846462e-01, 3.03409539e-01, 4.08635041e-01, 5.31970508e-01,\n",
       "        5.07918797e-01, 4.59834728e-01, 2.23308136e-01, 3.31397611e-01,\n",
       "        7.36787284e-01, 3.70329276e-01, 7.21908021e-01, 7.29033765e-01,\n",
       "        3.16736271e-01, 5.63699565e-01, 5.66957912e-01, 2.32461404e-01],\n",
       "       [8.08642554e-01, 9.89845372e-02, 2.81744480e-01, 4.00859233e-01,\n",
       "        4.84032213e-01, 4.14502730e-01, 9.35905376e-01, 9.70150561e-01,\n",
       "        9.05226072e-01, 2.20176938e-01, 1.41182353e-01, 6.41178359e-01,\n",
       "        7.97044204e-01, 5.71890873e-01, 2.35645527e-01, 1.12432038e-01,\n",
       "        9.79835302e-01, 9.02285448e-01, 7.33768284e-01, 6.22898914e-01],\n",
       "       [9.63425404e-01, 3.84555787e-01, 6.47216571e-02, 4.86785295e-01,\n",
       "        3.60229588e-01, 4.29479371e-01, 8.30638537e-02, 6.70873550e-01,\n",
       "        8.82877847e-01, 7.64825368e-01, 8.32391099e-01, 6.93276212e-01,\n",
       "        5.44380547e-01, 2.15806845e-01, 7.64388556e-01, 8.07731995e-01,\n",
       "        7.90832495e-01, 3.98015758e-01, 4.40227908e-01, 9.84703041e-01],\n",
       "       [6.07623385e-01, 4.53191480e-02, 1.54438230e-01, 5.78223562e-01,\n",
       "        3.37036583e-01, 1.50326567e-01, 9.84700428e-01, 3.45786161e-01,\n",
       "        3.68328780e-01, 1.08714461e-01, 2.63897643e-01, 9.46229646e-01,\n",
       "        2.66371967e-01, 1.42360719e-01, 5.89128387e-01, 5.68211508e-01,\n",
       "        5.30288958e-01, 6.82691975e-01, 7.59586684e-01, 4.49308439e-01],\n",
       "       [3.13075611e-01, 7.53321960e-02, 4.85874220e-01, 1.16316583e-01,\n",
       "        5.85127756e-01, 6.81099948e-01, 7.98892256e-01, 3.20978569e-01,\n",
       "        2.23300424e-01, 9.06252585e-01, 2.69394292e-02, 3.49492926e-01,\n",
       "        9.47510196e-01, 1.10913854e-01, 8.79666989e-02, 3.52283614e-01,\n",
       "        7.52439425e-01, 1.32024255e-01, 7.23378522e-01, 2.72413395e-01],\n",
       "       [5.40872628e-02, 1.74693074e-01, 6.37146332e-01, 6.66690317e-01,\n",
       "        8.67411168e-01, 9.88170003e-01, 6.11170150e-01, 9.86657097e-01,\n",
       "        6.62383185e-01, 8.29872901e-01, 7.55372461e-01, 3.28704995e-02,\n",
       "        2.49237775e-01, 4.65559982e-01, 7.51295007e-01, 8.60251543e-01,\n",
       "        3.87192862e-01, 2.78837170e-01, 5.37559506e-01, 7.87177809e-01],\n",
       "       [3.77600654e-01, 1.66839507e-01, 4.75050254e-01, 2.71661693e-01,\n",
       "        9.66195925e-01, 6.00646440e-01, 7.88352627e-01, 3.93378865e-01,\n",
       "        4.44313034e-01, 4.73283798e-02, 4.70570121e-01, 1.56078399e-01,\n",
       "        8.76357913e-01, 9.15587690e-02, 6.75449845e-01, 1.83615224e-01,\n",
       "        3.00488392e-01, 1.39374408e-01, 6.82886080e-01, 4.52467139e-01],\n",
       "       [4.55467099e-01, 2.84810448e-01, 4.96775354e-01, 4.12642018e-01,\n",
       "        7.67879064e-01, 2.07488345e-01, 5.39910831e-01, 3.72266075e-01,\n",
       "        6.52410310e-02, 2.61007720e-01, 6.81994354e-01, 2.09863503e-01,\n",
       "        2.89009335e-01, 5.28117003e-01, 1.48713964e-02, 5.11406951e-02,\n",
       "        7.74341527e-01, 5.82103715e-01, 8.32262928e-02, 5.46350569e-01],\n",
       "       [2.65896718e-01, 2.67523666e-01, 3.41277273e-01, 9.72237580e-01,\n",
       "        3.89429537e-01, 6.90680578e-01, 3.66933564e-03, 9.74890145e-01,\n",
       "        7.04518024e-01, 3.78711040e-02, 2.92532810e-01, 7.05639112e-01,\n",
       "        4.67714698e-02, 7.91596520e-01, 7.83145993e-01, 1.89401135e-01,\n",
       "        6.25129756e-01, 1.16050484e-01, 8.99630848e-01, 1.60853327e-01],\n",
       "       [5.26532929e-02, 4.34317759e-01, 7.20885642e-01, 1.93909936e-01,\n",
       "        4.03480004e-01, 3.52675250e-01, 9.12608761e-01, 4.88601654e-01,\n",
       "        5.72737395e-01, 7.42772190e-02, 1.48906676e-01, 5.75635578e-01,\n",
       "        7.87040382e-01, 2.70525470e-01, 5.82553366e-01, 4.05092558e-01,\n",
       "        5.61036187e-01, 6.00607087e-01, 9.08830345e-01, 7.29125109e-01],\n",
       "       [7.98521500e-01, 4.93257975e-01, 1.32057195e-01, 1.05893783e-01,\n",
       "        6.57574407e-01, 7.16813648e-01, 2.16496775e-01, 3.64309031e-02,\n",
       "        4.60731553e-01, 3.68067644e-01, 6.23344680e-01, 5.06355498e-01,\n",
       "        7.62368659e-01, 5.57139044e-02, 7.01553107e-01, 5.70559462e-01,\n",
       "        4.14758737e-01, 7.58138915e-01, 3.95624464e-01, 5.98670151e-01],\n",
       "       [1.04711155e-01, 9.19101518e-01, 8.16879723e-01, 3.14094811e-01,\n",
       "        4.00878756e-01, 5.58923151e-01, 6.25227586e-02, 3.88421191e-01,\n",
       "        8.89467816e-01, 3.01844429e-02, 1.25594158e-01, 4.93541790e-01,\n",
       "        5.04996247e-03, 1.17783413e-01, 2.33819077e-01, 4.63746252e-01,\n",
       "        8.78401980e-01, 9.02359328e-01, 3.70378110e-01, 5.46281132e-01],\n",
       "       [9.69464602e-01, 7.51198536e-01, 3.96579634e-01, 5.94359639e-01,\n",
       "        6.58352159e-01, 4.58149900e-01, 5.18879022e-01, 5.03443565e-01,\n",
       "        8.00592465e-01, 2.18715856e-01, 6.00012091e-01, 9.21129158e-01,\n",
       "        4.02157083e-01, 1.83335741e-01, 2.99104024e-01, 7.01689158e-02,\n",
       "        7.33797234e-02, 7.09274411e-01, 4.87579978e-01, 8.59349747e-01],\n",
       "       [2.20012177e-01, 3.49303229e-01, 7.52045140e-01, 3.43875615e-01,\n",
       "        7.18024337e-01, 1.74226380e-01, 3.56387477e-01, 6.45728582e-01,\n",
       "        9.62234627e-01, 9.59687143e-01, 6.55288745e-01, 1.99823094e-01,\n",
       "        4.13063985e-01, 2.88464708e-01, 7.42649512e-01, 2.94369284e-01,\n",
       "        5.18643960e-01, 8.82208572e-01, 5.03087000e-01, 1.13267801e-01],\n",
       "       [3.77756162e-02, 9.25252379e-01, 3.69388344e-02, 4.96481839e-01,\n",
       "        3.02603223e-01, 2.03006695e-01, 4.42704092e-01, 1.95874382e-02,\n",
       "        8.59323733e-01, 1.64501070e-02, 7.55721423e-01, 2.08600151e-01,\n",
       "        7.10076763e-01, 2.51406532e-01, 7.85905317e-01, 5.17073775e-01,\n",
       "        7.11610194e-01, 9.75383009e-02, 5.88551444e-01, 3.75637919e-01],\n",
       "       [3.02763917e-01, 7.40524028e-01, 3.45861840e-01, 9.72753065e-01,\n",
       "        9.59358398e-01, 1.11291105e-02, 5.66523590e-01, 9.63386678e-01,\n",
       "        4.98368994e-02, 1.76321038e-02, 3.72717225e-01, 5.26672665e-01,\n",
       "        3.82739003e-02, 1.24614127e-01, 1.69880094e-01, 1.61590932e-01,\n",
       "        9.52495629e-01, 7.77277403e-01, 5.90707632e-01, 7.90214361e-01]])"
      ]
     },
     "execution_count": 15,
     "metadata": {},
     "output_type": "execute_result"
    }
   ],
   "source": [
    "feautres"
   ]
  },
  {
   "cell_type": "code",
   "execution_count": 13,
   "metadata": {},
   "outputs": [
    {
     "data": {
      "text/plain": [
       "0.02669295166718988"
      ]
     },
     "execution_count": 13,
     "metadata": {},
     "output_type": "execute_result"
    }
   ],
   "source": [
    "feautres"
   ]
  },
  {
   "cell_type": "code",
   "execution_count": null,
   "metadata": {},
   "outputs": [],
   "source": []
  }
 ],
 "metadata": {
  "interpreter": {
   "hash": "b4100bb6f045b60ec9c3183a0a94cad1c41ce1f54c418a3a8a10527e4c4eb519"
  },
  "kernelspec": {
   "display_name": "Python 3.7.11 64-bit ('recommender': conda)",
   "language": "python",
   "name": "python3"
  },
  "language_info": {
   "codemirror_mode": {
    "name": "ipython",
    "version": 3
   },
   "file_extension": ".py",
   "mimetype": "text/x-python",
   "name": "python",
   "nbconvert_exporter": "python",
   "pygments_lexer": "ipython3",
   "version": "3.7.11"
  },
  "orig_nbformat": 4
 },
 "nbformat": 4,
 "nbformat_minor": 2
}
