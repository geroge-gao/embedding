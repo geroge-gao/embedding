{
 "cells": [
  {
   "cell_type": "code",
   "execution_count": 1,
   "metadata": {},
   "outputs": [],
   "source": [
    "import numpy as np\n",
    "from tensorflow.keras.models import Sequential\n",
    "from tensorflow.keras.layers import Embedding"
   ]
  },
  {
   "cell_type": "code",
   "execution_count": 9,
   "metadata": {},
   "outputs": [],
   "source": [
    "model = Sequential()\n",
    "model.add(Embedding(100, 64, input_length=10))\n",
    "# 模型将输入一个大小为 (batch, input_length) 的整数矩阵。\n",
    "# 输入中最大的整数（即词索引）不应该大于 999 （词汇表大小）\n",
    "# 现在 model.output_shape == (None, 10, 64)，其中 None 是 batch 的维度。\n",
    "\n",
    "input_array = np.random.randint(100, size=(32, 10))\n",
    "\n",
    "model.compile('rmsprop', 'mse')\n",
    "output_array = model.predict(input_array)\n",
    "assert output_array.shape == (32, 10, 64)"
   ]
  },
  {
   "cell_type": "code",
   "execution_count": 5,
   "metadata": {},
   "outputs": [
    {
     "data": {
      "text/plain": [
       "array([[1],\n",
       "       [2],\n",
       "       [1],\n",
       "       [1],\n",
       "       [2],\n",
       "       [1],\n",
       "       [2],\n",
       "       [2],\n",
       "       [2],\n",
       "       [1]])"
      ]
     },
     "execution_count": 5,
     "metadata": {},
     "output_type": "execute_result"
    }
   ],
   "source": [
    "np.random.randint(3, size=(10,1))"
   ]
  },
  {
   "cell_type": "code",
   "execution_count": 4,
   "metadata": {},
   "outputs": [],
   "source": [
    "import tensorflow as tf\n",
    "import numpy  as np"
   ]
  },
  {
   "cell_type": "code",
   "execution_count": 5,
   "metadata": {},
   "outputs": [],
   "source": [
    "a = np.array([\n",
    "    [ True, False,  True,  True,  True,  True,  True,  True, False,  True],\n",
    " [ True ,False  ,True , True,  True , True, False,  True , True,  True],\n",
    " [ True , True , True  ,True , True  ,True  ,True  ,True  ,True  ,True]],  dtype=bool)"
   ]
  },
  {
   "cell_type": "code",
   "execution_count": 8,
   "metadata": {},
   "outputs": [],
   "source": [
    "b = a * -1e9"
   ]
  },
  {
   "cell_type": "code",
   "execution_count": 9,
   "metadata": {},
   "outputs": [
    {
     "data": {
      "text/plain": [
       "array([[-1.e+09, -0.e+00, -1.e+09, -1.e+09, -1.e+09, -1.e+09, -1.e+09,\n",
       "        -1.e+09, -0.e+00, -1.e+09],\n",
       "       [-1.e+09, -0.e+00, -1.e+09, -1.e+09, -1.e+09, -1.e+09, -0.e+00,\n",
       "        -1.e+09, -1.e+09, -1.e+09],\n",
       "       [-1.e+09, -1.e+09, -1.e+09, -1.e+09, -1.e+09, -1.e+09, -1.e+09,\n",
       "        -1.e+09, -1.e+09, -1.e+09]])"
      ]
     },
     "execution_count": 9,
     "metadata": {},
     "output_type": "execute_result"
    }
   ],
   "source": [
    "b"
   ]
  },
  {
   "cell_type": "code",
   "execution_count": null,
   "metadata": {},
   "outputs": [],
   "source": []
  }
 ],
 "metadata": {
  "interpreter": {
   "hash": "b4100bb6f045b60ec9c3183a0a94cad1c41ce1f54c418a3a8a10527e4c4eb519"
  },
  "kernelspec": {
   "display_name": "Python 3.7.11 64-bit ('recommender': conda)",
   "language": "python",
   "name": "python3"
  },
  "language_info": {
   "codemirror_mode": {
    "name": "ipython",
    "version": 3
   },
   "file_extension": ".py",
   "mimetype": "text/x-python",
   "name": "python",
   "nbconvert_exporter": "python",
   "pygments_lexer": "ipython3",
   "version": "3.7.11"
  },
  "orig_nbformat": 4
 },
 "nbformat": 4,
 "nbformat_minor": 2
}
